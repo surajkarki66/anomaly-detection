{
 "cells": [
  {
   "cell_type": "markdown",
   "id": "84f53cdb",
   "metadata": {},
   "source": [
    "## High Dimensional Anomaly Detection\n",
    "In reality, datasets often have a large number of dimensions d >> 1. While the approaches presented previously may still work, some of them slow down significantly as d increases. Furthermore, new challenges emerge in high dimensions that aren’t problematic in 1D, 2D or 3D"
   ]
  },
  {
   "cell_type": "markdown",
   "id": "1c2dffc1",
   "metadata": {},
   "source": [
    "### The curse of dimensionality\n",
    "A few problems faced in high dimensions are\n",
    "1. Data sparsity\n",
    "2. Relevant vs. irrelevant features\n",
    "3. Combinatorial explosion\n",
    "These problems plague other algorithms too (not just anomaly detection)"
   ]
  },
  {
   "cell_type": "markdown",
   "id": "86b4d48e",
   "metadata": {},
   "source": [
    "#### 1. Data Sparsity\n",
    "- All pairs of points are almost equidistant in high dimensions.\n",
    "- For a given query point in high dimensions, almost all points are likely to lie in a thin shell around the query point.\n",
    "![image](https://github.com/surajkarki66/MediLeaf_backend/assets/50628520/c6daf022-c042-41db-baca-bd67e1f88938)\n",
    "\n",
    "- As a result, distance-based anomaly detection methods become challenging.\n",
    "- As the dimensionality increases, it becomes increasingly harder to choose the threshold distance r because of the shell effect\n",
    "    - If r is a little bigger than the shell radius, no points are anomalies\n",
    "    - If r is a little smaller than the shell radius, all points are anomalies\n",
    "    \n",
    "- Therefore, r must be chosen with unrealistic accuracy to detect a reasonable number of anomalies."
   ]
  },
  {
   "cell_type": "markdown",
   "id": "8a999df7",
   "metadata": {},
   "source": [
    "#### 2. Relevant vs. irrelevant features\n",
    "**Anomalies are usually different only in some features (dimensions)**\n",
    "- These features are called “relevant”\n",
    "\n",
    "![image](https://github.com/surajkarki66/MediLeaf_backend/assets/50628520/6b014458-b6b5-481d-b727-f0f892e72e4d)\n",
    "\n",
    "**Irrelevant features add noise making it harder to detect anomalies**\n",
    "- Consider data that consists of some anomalies together with normal (non- anomalous) data that is generated from a Gaussian distribution.\n",
    "- For each normal data point there is a small probability of getting a result that is far from the mean, which would make it look like an anomaly.\n",
    "- Let’s assume that a normal point looks like an anomaly if it is more than three standard deviations away from the mean.\n",
    "- For a Gaussian distribution, the probability of being within three standard deviations from the mean is p = 0.9973\n",
    "- The probability of looking like an anomaly is q = 1 – p = 0.0027\n",
    "- So for d = 1, the probability of mistaking a normal point for an anomaly is very small.\n",
    "- What happens as d increases?\n",
    "\n",
    "![image](https://github.com/surajkarki66/MediLeaf_backend/assets/50628520/c114f8ad-097a-4160-8a5b-99ac9c72cf3a)\n",
    "- For d =1000, the probability that the point won’t look like an anomaly in any of the dimensions is pd =0.0670.\n",
    "- In other words, it is very likely that is some dimensions, what is supposed to be a normal point will appear to be an anomaly.\n",
    "- Similarly, it is unlikely that the anomalies will have anomalous values in all dimensions. In some (or even many) dimensions, they will look like normal data.\n",
    "- Anomalies are embedded in lower-dimensional subspaces (“relevant features”)\n",
    "- Because of the potential confusion between anomalies and normal data, it is not appropriate simply to use all dimensions to detect anomalies. Such an approach—for example, a distance metric that includes all dimensions available—will lead to poor results\n",
    "- The challenge is to find the relevant subspaces (features) that lead to an effective anomaly detection algorithm"
   ]
  },
  {
   "cell_type": "markdown",
   "id": "758747bb",
   "metadata": {},
   "source": [
    "![image](https://github.com/surajkarki66/MediLeaf_backend/assets/50628520/21455d42-9936-4e55-bf22-70c4ab18616f)\n"
   ]
  },
  {
   "cell_type": "markdown",
   "id": "50e800e2",
   "metadata": {},
   "source": [
    "#### 3. Combinatorial explosion\n",
    "**Exhaustive search is impractical**\n",
    "- Imagine looking for a relevant subspace in d = 1000 using a grid\n",
    "- Divide each dimension into 10 bins\n",
    "- Have to scan 101000 cells\n",
    "- Also need >101000 data points to reach any statistically valid conclusions"
   ]
  },
  {
   "cell_type": "markdown",
   "id": "e51dec44",
   "metadata": {},
   "source": [
    "## Imports"
   ]
  },
  {
   "cell_type": "code",
   "execution_count": 1,
   "id": "31d150d4",
   "metadata": {},
   "outputs": [],
   "source": [
    "import warnings\n",
    "import sys\n",
    "import datetime\n",
    "import scipy\n",
    "import scipy.stats as ss\n",
    "import numpy as np\n",
    "import matplotlib\n",
    "import matplotlib.pyplot as plt\n",
    "import pandas as pd\n",
    "import random\n",
    "from sklearn.neighbors import LocalOutlierFactor\n",
    "from sklearn.metrics import confusion_matrix, accuracy_score\n",
    "from sklearn.ensemble import IsolationForest\n",
    "\n",
    "%matplotlib inline\n",
    "warnings.filterwarnings('ignore', category=FutureWarning)"
   ]
  },
  {
   "cell_type": "markdown",
   "id": "735375d0",
   "metadata": {},
   "source": [
    "## Python and library versions"
   ]
  },
  {
   "cell_type": "code",
   "execution_count": 2,
   "id": "c56de0ff",
   "metadata": {},
   "outputs": [
    {
     "name": "stdout",
     "output_type": "stream",
     "text": [
      "3.11.5 (main, Sep 11 2023, 13:23:44) [GCC 11.2.0] \n",
      "\n",
      "library    version\n",
      "------------------\n",
      "matplotlib  3.7.2\n",
      "numpy       1.23.5\n",
      "pandas      2.0.3\n",
      "scipy       1.11.1\n"
     ]
    }
   ],
   "source": [
    "versions = ( (\"matplotlib\", matplotlib.__version__),\n",
    "            (\"numpy\", np.__version__),\n",
    "            (\"pandas\", pd.__version__),\n",
    "            (\"scipy\", scipy.__version__))\n",
    "\n",
    "print(sys.version, \"\\n\")\n",
    "print(\"library\" + \" \" * 4 + \"version\")\n",
    "print(\"-\" * 18)\n",
    "\n",
    "for tup1, tup2 in versions:\n",
    "    print(\"{:11} {}\".format(tup1, tup2))"
   ]
  },
  {
   "cell_type": "markdown",
   "id": "59df047e",
   "metadata": {},
   "source": [
    "## Section 1: The subspace method with feature bagging\n",
    "A few approaches to find appropriate subspaces\n",
    "- PCA (principal component analysis)\n",
    "- Grid-based search (beware: combinatorial explosion possible!)\n",
    "- Cluster-based statistics\n",
    "- Random sampling of subspaces\n",
    "- feature bagging\n",
    "\n",
    "Note: `Whatever method you use, remember: detecting anomalies is only a first step.\n",
    "Explaining why they are anomalies is the main goal. If you can’t explain your\n",
    "findings, your subspace method is unhelpful.`\n",
    "\n",
    "In this notebook, we are going to implement feature bagging."
   ]
  },
  {
   "cell_type": "markdown",
   "id": "c0b558ce",
   "metadata": {},
   "source": [
    "### Feature Bagging\n",
    "- An ensemble method\n",
    "- An approach for combining outliers from many different subspaces\n",
    "- Perform anomaly detection in random subsets of the attributes (=subspaces)\n",
    "- Combine all results to achieve an overall ranking or score\n",
    "\n",
    "**Algorithm**  \n",
    "Let a dataset having dimension d.   \n",
    "An iterative process. For iteration s:\n",
    "1. Select an integer m at random from (d/2)* to (d-1)\n",
    "2. Select m features at random without replacement from the dataset producing an m-dimensional dataset Ts,m \n",
    "3. Apply the anomaly detection algorithm As to Ts, m to score each data point\n",
    "4. Combine scores from the different iterations to get an overall result for each point"
   ]
  },
  {
   "cell_type": "markdown",
   "id": "5f9ed8be",
   "metadata": {},
   "source": [
    "**Comparing apples with apples**\n",
    "- Since each m-dimensional subspace contains a different number of features, the scores must be normalized to make a meaningful comparison\n",
    "- If normalization is done properly, it allows for extra freedom: the anomaly detection algorithm As can be different for each iteration\n",
    "- The simplest approach, however, is to use the same anomaly detection algorithm for all iterations that returns a normalized score"
   ]
  },
  {
   "cell_type": "markdown",
   "id": "dd69da31",
   "metadata": {},
   "source": [
    "**Two ways to combine scores from different iterations**  \n",
    "- Breadth-first: The top-ranked anomalies from all iterations are ranked first, followed by the second-ranked outliers (with repetitions removed), etc.\n",
    "    - Different tie-breaking procedures between anomalies within each rank may lead to slightly different results.\n",
    "    \n",
    "- Cumulative-sum: For each point, the anomaly scores from the different iterations are added together. The overall score is determined by the cumulative sum.\n",
    "\n",
    "Note: `Even though each iteration may give not-so-great results, the combination\n",
    "provides for good anomaly detection`"
   ]
  },
  {
   "cell_type": "markdown",
   "id": "7fb0fc2b",
   "metadata": {},
   "source": [
    "We will proceed as follows:\n",
    "\n",
    "1. Create the simulated data\n",
    "2. Perform anomaly detection with the subspace method/feature bagging\n",
    "3. Score the results\n",
    "4. Analyze the output using a confusion matrix"
   ]
  },
  {
   "cell_type": "markdown",
   "id": "12605593",
   "metadata": {},
   "source": [
    "### Data"
   ]
  },
  {
   "cell_type": "markdown",
   "id": "2789d5bf",
   "metadata": {},
   "source": [
    "We start by creating the data, which will be a combination of normal points and anomalies for a total of 5100 points. The 5000 normal points are generated from a 5D Gaussian distribution where we specify the mean in each dimension as well as the covariance matrix.  The anomalies are 100 points that are far away from the normal points in the same 5D space (the relevant features). To explore the effects of feature bagging, an additional 5D of noise (irrelevant features) are added to all data points."
   ]
  },
  {
   "cell_type": "markdown",
   "id": "80f3dc1e",
   "metadata": {},
   "source": [
    "First, we will generate the 5000 normal data points"
   ]
  },
  {
   "cell_type": "code",
   "execution_count": 3,
   "id": "ce5219b1",
   "metadata": {},
   "outputs": [],
   "source": [
    "np.random.seed(20) # include a seed for reproducibility\n",
    "\n",
    "# generate the normal data using number of points, \n",
    "# number of relevant features, mean and standard deviation\n",
    "norm_pts = 5000\n",
    "norm_dim = 5\n",
    "norm_mean = 0.0\n",
    "norm_stdev = 0.5\n",
    "norm_data = np.random.normal(norm_mean, norm_stdev, \n",
    "                             (norm_pts, norm_dim))"
   ]
  },
  {
   "cell_type": "code",
   "execution_count": 4,
   "id": "af036f16",
   "metadata": {},
   "outputs": [
    {
     "data": {
      "text/plain": [
       "(5000, 5)"
      ]
     },
     "execution_count": 4,
     "metadata": {},
     "output_type": "execute_result"
    }
   ],
   "source": [
    "norm_data.shape"
   ]
  },
  {
   "cell_type": "markdown",
   "id": "f2b18b42",
   "metadata": {},
   "source": [
    "Next, we generate the anomalous data. We will do this in two steps:\n",
    "1. Generate a Gaussian distrubution of points\n",
    "2. Transform this distribution into a ring around the normal points."
   ]
  },
  {
   "cell_type": "code",
   "execution_count": 5,
   "id": "d3a7e96e",
   "metadata": {},
   "outputs": [],
   "source": [
    "# Generate Gaussian distribution for preliminary anomaly data\n",
    "# using number of points, number of relevant features, \n",
    "# mean and standard deviation\n",
    "anom_pts = 100\n",
    "anom_dim = 5\n",
    "anom_mean = 0.0\n",
    "anom_stdev = 0.5\n",
    "anom_data_prelim = np.random.normal(anom_mean, anom_stdev, \n",
    "                             (anom_pts, anom_dim))"
   ]
  },
  {
   "cell_type": "code",
   "execution_count": 6,
   "id": "58f997f5",
   "metadata": {},
   "outputs": [],
   "source": [
    "# Transform into ring distribution for final anomaly data\n",
    "def transform_to_ring(data, radius, spread):\n",
    "    \"\"\"\n",
    "    Transforms the data provided into a ring distribution.\n",
    "    ---\n",
    "    Inputs: data (the data to be transformed, np.array),\n",
    "    radius (radius of ring, float)\n",
    "    spread (spread of data about radius, float)\n",
    "    Outputs: transformed_data (np.array)\n",
    "    \"\"\"\n",
    "    transformed_data_list = []\n",
    "    for item in data:\n",
    "        z = np.array(item) # in case data is provided as list\n",
    "        transformed_data_list.append(z*spread \n",
    "                                     + radius*z / np.linalg.norm(z))\n",
    "        transformed_data = np.array(transformed_data_list)\n",
    "    return transformed_data\n"
   ]
  },
  {
   "cell_type": "code",
   "execution_count": 7,
   "id": "461e86d9",
   "metadata": {},
   "outputs": [],
   "source": [
    "anom_data = transform_to_ring(anom_data_prelim, 2.0, 1.0)"
   ]
  },
  {
   "cell_type": "code",
   "execution_count": 8,
   "id": "d6eeb0f7",
   "metadata": {},
   "outputs": [
    {
     "data": {
      "text/plain": [
       "(100, 5)"
      ]
     },
     "execution_count": 8,
     "metadata": {},
     "output_type": "execute_result"
    }
   ],
   "source": [
    "anom_data.shape"
   ]
  },
  {
   "cell_type": "markdown",
   "id": "8dbdba97",
   "metadata": {},
   "source": [
    "Plot the data and color code normal vs. anomaly"
   ]
  },
  {
   "cell_type": "code",
   "execution_count": 9,
   "id": "ee8c3849",
   "metadata": {},
   "outputs": [
    {
     "data": {
      "image/png": "[encoded data removed]",
      "text/plain": [
       "<Figure size 600x400 with 1 Axes>"
      ]
     },
     "metadata": {},
     "output_type": "display_data"
    }
   ],
   "source": [
    "fig = plt.figure(figsize=(6,4))\n",
    "ax1 = fig.add_subplot(111)\n",
    "\n",
    "ax1.scatter(norm_data[:,0], norm_data[:,1], s=30, c='b', marker=\"o\", \n",
    "            label='normal')\n",
    "ax1.scatter(anom_data[:,0], anom_data[:,1], s=30, c='r', marker=\"o\", \n",
    "            label='anomaly')\n",
    "plt.legend(loc='best');\n",
    "plt.xlabel('x', fontsize=12)\n",
    "plt.ylabel('y', fontsize=12)\n",
    "plt.show()"
   ]
  },
  {
   "cell_type": "markdown",
   "id": "2bda7070",
   "metadata": {},
   "source": [
    "As we are plotting a 5D distribution in 2D, it is hard to see the ring nature of the anomaly data. \n",
    "\n",
    "**Question**: How could we quickly check that our ring transformation is working?  \n",
    "\n",
    "**Answer**: Look at the anomalies in 2D. Set the parameter *anom_dim* to 2 and explore what happens when you change *radius* and *spread*."
   ]
  },
  {
   "cell_type": "code",
   "execution_count": 10,
   "id": "1a047fcd",
   "metadata": {},
   "outputs": [
    {
     "data": {
      "text/plain": [
       "(5100, 5)"
      ]
     },
     "execution_count": 10,
     "metadata": {},
     "output_type": "execute_result"
    }
   ],
   "source": [
    "# Combine the data into one array for later use\n",
    "combined_data = np.concatenate((norm_data, anom_data), axis=0)\n",
    "combined_data.shape"
   ]
  },
  {
   "cell_type": "code",
   "execution_count": 11,
   "id": "ce746210",
   "metadata": {},
   "outputs": [],
   "source": [
    "# Create noise for normal data (1) and anomalies (2)\n",
    "# using number of irrelevant features, \n",
    "# mean and standard deviation\n",
    "noise_dim = 5\n",
    "noise_mean = 0\n",
    "noise_stdev = 4\n",
    "noise_norm = np.random.normal(noise_mean, noise_stdev, \n",
    "                                    (norm_pts, noise_dim))\n",
    "noise_anom = np.random.normal(noise_mean, noise_stdev, \n",
    "                                    (anom_pts, noise_dim ))\n"
   ]
  },
  {
   "cell_type": "code",
   "execution_count": 12,
   "id": "5d9d16bb",
   "metadata": {},
   "outputs": [],
   "source": [
    "# Add noise to normal data and anomalies \n",
    "# to create full data (all features)\n",
    "norm_data_full = np.concatenate((norm_data, noise_norm), axis=1)\n",
    "anom_data_full = np.concatenate((anom_data, noise_anom), axis=1)"
   ]
  },
  {
   "cell_type": "code",
   "execution_count": 13,
   "id": "42092d59",
   "metadata": {},
   "outputs": [],
   "source": [
    "# Aggregate normal data and anomalies for later use\n",
    "all_data = np.concatenate((norm_data_full, anom_data_full), axis=0)"
   ]
  },
  {
   "cell_type": "code",
   "execution_count": 14,
   "id": "41aa64e8",
   "metadata": {},
   "outputs": [
    {
     "data": {
      "text/plain": [
       "(5100, 10)"
      ]
     },
     "execution_count": 14,
     "metadata": {},
     "output_type": "execute_result"
    }
   ],
   "source": [
    "all_data.shape"
   ]
  },
  {
   "cell_type": "markdown",
   "id": "a5293095",
   "metadata": {},
   "source": [
    "**Anomaly detection with feature bagging**"
   ]
  },
  {
   "cell_type": "code",
   "execution_count": 15,
   "id": "19fac658",
   "metadata": {},
   "outputs": [],
   "source": [
    "def feature_bagging(data):\n",
    "    \"\"\"\n",
    "    Selects subspace data using feature bagging.\n",
    "   \n",
    "    Args: \n",
    "        data: the full data to be sampled (np.array)\n",
    "        \n",
    "    Returns: \n",
    "        subspace_data: the subspace data (np.array)\n",
    "    \"\"\"\n",
    "    # Find the size of the full dimensional space\n",
    "    full_dim = data.shape[1]\n",
    "    # select size of subspace\n",
    "    size_subspace = np.random.randint(full_dim // 2, full_dim - 1)\n",
    "    # select features without replacement \n",
    "    subspace_index = np.random.choice(full_dim, size_subspace, \n",
    "                                      replace=False)\n",
    "    # select subspace data \n",
    "    # Originally, features are data columns\n",
    "    # Transponse to select features as rows (easier)\n",
    "    # and then transponse back to restore features as columns\n",
    "    subspace_data = (data.T[sorted(subspace_index),:]).T\n",
    "    return subspace_data"
   ]
  },
  {
   "cell_type": "markdown",
   "id": "9081e6e5",
   "metadata": {},
   "source": [
    "Now carry out anomaly detection on subspace data (step 3). We will use the local outlier factor (LOF) approach discussed in Lesson 4. LOF was also used by Lazarevic and Kumar because it returns appropriately normalized scores that account for feature subspaces of different dimensions. \n",
    "\n",
    "To combine the scores from each iteration (step 4), we will use the cumulative-sum approach (see Lesson 05 lecture)."
   ]
  },
  {
   "cell_type": "code",
   "execution_count": 16,
   "id": "b6bd5166",
   "metadata": {},
   "outputs": [],
   "source": [
    "def anomaly_subspace_method(data, repeat):\n",
    "    \"\"\"\n",
    "    Carries out anomaly detection using feature bagging.\n",
    "    Uses Local Outlier Factor (LOF) for anomaly detection.\n",
    "    Uses cumulative-sum approach to combine anomaly detection scores. \n",
    "    from each iteration\n",
    "    \n",
    "    Args: \n",
    "        data: the full data to be sampled (np.array)\n",
    "        repeat: number of iterations for feature bagging (int)\n",
    "    Returns:\n",
    "        final_scores: the anomaly score of each point in the data (list)\n",
    "    \"\"\"\n",
    "    final_scores = np.zeros(len(data))\n",
    "    for i in range(repeat):\n",
    "        subspace_data = feature_bagging(data)\n",
    "        clf = LocalOutlierFactor(n_neighbors=20, metric='manhattan')\n",
    "        y_pred = clf.fit_predict(subspace_data)\n",
    "        X_scores = clf.negative_outlier_factor_\n",
    "        final_scores += X_scores\n",
    "    return final_scores\n",
    "        "
   ]
  },
  {
   "cell_type": "markdown",
   "id": "f03fa4c1",
   "metadata": {},
   "source": [
    "**Note**—we use the *negative_outlier_factor_* scoring convention of *sklearn*:\n",
    "\n",
    "Inliers tend to have a *negative_outlier_factor_* close to -1.\n",
    "<br>outliers tend to have a large negative number."
   ]
  },
  {
   "cell_type": "markdown",
   "id": "cd66cc88",
   "metadata": {},
   "source": [
    "Now it's time to analyze the data. We'll repeat the feature bagging 50 times."
   ]
  },
  {
   "cell_type": "code",
   "execution_count": 17,
   "id": "2c628753",
   "metadata": {},
   "outputs": [],
   "source": [
    "cumulative_scores = anomaly_subspace_method(all_data, 10)"
   ]
  },
  {
   "cell_type": "code",
   "execution_count": 18,
   "id": "b5db2b14",
   "metadata": {},
   "outputs": [
    {
     "data": {
      "text/plain": [
       "(5100,)"
      ]
     },
     "execution_count": 18,
     "metadata": {},
     "output_type": "execute_result"
    }
   ],
   "source": [
    "cumulative_scores.shape"
   ]
  },
  {
   "cell_type": "markdown",
   "id": "dab88794",
   "metadata": {},
   "source": [
    "We know that the first 5000 points are normal data and the next 100 are anomalies. Therefore we expect that the scores at the beginning of *cumulative_scores* should be less negative than those at the end."
   ]
  },
  {
   "cell_type": "code",
   "execution_count": 19,
   "id": "2d2bd978",
   "metadata": {},
   "outputs": [
    {
     "name": "stdout",
     "output_type": "stream",
     "text": [
      "[-10.42822032 -10.11430337  -9.94264351  -9.97740891 -11.35658359\n",
      " -10.65692172 -10.59557416 -11.89593756 -10.3129885  -10.14233905\n",
      " -12.02322703 -10.52378682 -10.10541638 -10.96957967 -10.63905103\n",
      " -10.36021459  -9.92217649 -10.67933135 -10.98069907 -11.39922243]\n"
     ]
    }
   ],
   "source": [
    "print(cumulative_scores[0:20])"
   ]
  },
  {
   "cell_type": "code",
   "execution_count": 20,
   "id": "17bf268b",
   "metadata": {},
   "outputs": [
    {
     "name": "stdout",
     "output_type": "stream",
     "text": [
      "[-14.85215851 -14.21291428 -15.21692821 -15.68583487 -16.28738734\n",
      " -15.99495715 -16.38737843 -14.46308237 -14.99386485 -16.59273306\n",
      " -11.95628822 -15.18960334 -15.72579168 -14.53332571 -22.4328569\n",
      " -15.98863141 -14.32595071 -14.94775829 -15.18901059 -14.30024492]\n"
     ]
    }
   ],
   "source": [
    "print(cumulative_scores[5080:5100])"
   ]
  },
  {
   "cell_type": "markdown",
   "id": "847704e0",
   "metadata": {},
   "source": [
    "Looks reasonable, but with so many data points, we must go beyond simple inspections and do some statistical analysis. Since the predicted anomalies will have the lowest scores, we sort the scores from low to high and return the index of each corresponding data point."
   ]
  },
  {
   "cell_type": "code",
   "execution_count": 21,
   "id": "32b9e2ca",
   "metadata": {},
   "outputs": [],
   "source": [
    "ranking_by_index = np.argsort(cumulative_scores)"
   ]
  },
  {
   "cell_type": "code",
   "execution_count": 22,
   "id": "764cb6c7",
   "metadata": {},
   "outputs": [
    {
     "name": "stdout",
     "output_type": "stream",
     "text": [
      "[5094 5028 5067 5079 5052 5054 5062 5077 5050 5089 5006 5020 1128 5009\n",
      " 5053 5086 5084 5048 5016 5042]\n"
     ]
    }
   ],
   "source": [
    "print(ranking_by_index[0:20])"
   ]
  },
  {
   "cell_type": "markdown",
   "id": "3ca6d9e9",
   "metadata": {},
   "source": [
    "Most of the 20 points with the lowest scores have indices that are 5000 or greater. Encouraging!"
   ]
  },
  {
   "cell_type": "markdown",
   "id": "676bf2b6",
   "metadata": {},
   "source": [
    "To create a confusion matrix, we will create two arrays: one with the true labels for each point and the other with the predicted labels. We will use a 1 for the anomalies and a 0 for the normal points."
   ]
  },
  {
   "cell_type": "code",
   "execution_count": 23,
   "id": "b01764a8",
   "metadata": {},
   "outputs": [],
   "source": [
    "# Create labels based on known data\n",
    "# We know that the first *norm_pts* are normal data (0)\n",
    "# and the next *anom_pts* are anomalies (1)\n",
    "label_true = [0]*norm_pts\n",
    "for i in range(anom_pts):\n",
    "        label_true.append(1)\n"
   ]
  },
  {
   "cell_type": "code",
   "execution_count": 24,
   "id": "4ee40dbd",
   "metadata": {},
   "outputs": [
    {
     "data": {
      "text/plain": [
       "5100"
      ]
     },
     "execution_count": 24,
     "metadata": {},
     "output_type": "execute_result"
    }
   ],
   "source": [
    "len(label_true)"
   ]
  },
  {
   "cell_type": "markdown",
   "id": "8cbe9a06",
   "metadata": {},
   "source": [
    "We get the predicted labels using *ranking_by_index*. Since we know that we have 100 anomalies , we will label the first 100 lowest scores as anomalies and the rest as normal data. (To be more general, we will use the parameter *anom_pts* instead of a number)."
   ]
  },
  {
   "cell_type": "code",
   "execution_count": 25,
   "id": "97d42c49",
   "metadata": {},
   "outputs": [],
   "source": [
    "label_pred = [0]*len(all_data)\n",
    "for index, item in enumerate(ranking_by_index):\n",
    "    label_pred[item] = 1\n",
    "    if index == anom_pts:\n",
    "        break"
   ]
  },
  {
   "cell_type": "markdown",
   "id": "e8992882",
   "metadata": {},
   "source": [
    "Now that we have our labels, we can construct a confusion matrix. One way to do so is with pandas dataframes."
   ]
  },
  {
   "cell_type": "code",
   "execution_count": 26,
   "id": "542f1e17",
   "metadata": {},
   "outputs": [
    {
     "data": {
      "text/html": [
       "<div>\n",
       "<style scoped>\n",
       "    .dataframe tbody tr th:only-of-type {\n",
       "        vertical-align: middle;\n",
       "    }\n",
       "\n",
       "    .dataframe tbody tr th {\n",
       "        vertical-align: top;\n",
       "    }\n",
       "\n",
       "    .dataframe thead th {\n",
       "        text-align: right;\n",
       "    }\n",
       "</style>\n",
       "<table border=\"1\" class=\"dataframe\">\n",
       "  <thead>\n",
       "    <tr style=\"text-align: right;\">\n",
       "      <th>Predicted</th>\n",
       "      <th>0</th>\n",
       "      <th>1</th>\n",
       "    </tr>\n",
       "    <tr>\n",
       "      <th>True</th>\n",
       "      <th></th>\n",
       "      <th></th>\n",
       "    </tr>\n",
       "  </thead>\n",
       "  <tbody>\n",
       "    <tr>\n",
       "      <th>0</th>\n",
       "      <td>4985</td>\n",
       "      <td>15</td>\n",
       "    </tr>\n",
       "    <tr>\n",
       "      <th>1</th>\n",
       "      <td>14</td>\n",
       "      <td>86</td>\n",
       "    </tr>\n",
       "  </tbody>\n",
       "</table>\n",
       "</div>"
      ],
      "text/plain": [
       "Predicted     0   1\n",
       "True               \n",
       "0          4985  15\n",
       "1            14  86"
      ]
     },
     "execution_count": 26,
     "metadata": {},
     "output_type": "execute_result"
    }
   ],
   "source": [
    "label_true_series = pd.Series(label_true, name='True')\n",
    "label_pred_series = pd.Series(label_pred, name='Predicted')\n",
    "df_confusion_matrix = pd.crosstab(label_true_series, label_pred_series)\n",
    "df_confusion_matrix"
   ]
  },
  {
   "cell_type": "markdown",
   "id": "481a9eb9",
   "metadata": {},
   "source": [
    "We correctly found 86 out of 100 anomalies and also found 4985 out of 5000 normal data points. "
   ]
  },
  {
   "cell_type": "code",
   "execution_count": 27,
   "id": "fb8d6f58",
   "metadata": {},
   "outputs": [
    {
     "data": {
      "text/plain": [
       "array([[4985,   15],\n",
       "       [  14,   86]])"
      ]
     },
     "execution_count": 27,
     "metadata": {},
     "output_type": "execute_result"
    }
   ],
   "source": [
    "# See Imports section above\n",
    "confusion_matrix(label_true, label_pred)"
   ]
  },
  {
   "cell_type": "code",
   "execution_count": 28,
   "id": "6d21cc41",
   "metadata": {},
   "outputs": [
    {
     "data": {
      "text/plain": [
       "0.994313725490196"
      ]
     },
     "execution_count": 28,
     "metadata": {},
     "output_type": "execute_result"
    }
   ],
   "source": [
    "accuracy_score(label_true, label_pred)"
   ]
  },
  {
   "cell_type": "markdown",
   "id": "f2479cc6",
   "metadata": {},
   "source": [
    "It looks like we have created superb anomaly detector, but before we celebrate, we should remember that we had significant help: we included the number of anomalies (but not their identities) in the scoring procedure. If we didn't know how many anomalies we had, the anomaly detection would become more challenging. \n",
    "\n",
    "\n",
    "Also, there were several parameters we had to choose: *repeat* for the number of times to carry or feature bagging;  *n_neighbors* and *metric* for the LOF evaluation. There are rules of thumb for chooing these paramters, but often exploratory work is need to find the appropriate values for the problem at hand. "
   ]
  },
  {
   "cell_type": "markdown",
   "id": "1dbd824b",
   "metadata": {},
   "source": [
    "## Section 2: Isolation forests\n",
    "**Introduction**\n",
    "- An ensemble method: an isolation forest is a combination of isolation trees\n",
    "- In an isolation tree, the data is repeatedly divided with axis-parallel cuts at randomly chosen positions for randomly selected features.\n",
    "- The goal is to divide the data into nodes with fewer and fewer points until a singleton node containing one point is reached (the “leaf” of the tree).\n",
    "- We expect the tree branches containing anomalies to be less deep than those for normal points, because anomalies are located in sparse regions.\n",
    "- In other words, anomaly points are easy to isolate and normal points are hard to isolate."
   ]
  },
  {
   "cell_type": "markdown",
   "id": "02b012a4",
   "metadata": {},
   "source": [
    "![image](https://github.com/surajkarki66/MediLeaf_backend/assets/50628520/8feb5023-ea08-46a1-bef9-7a8b729617e2)"
   ]
  },
  {
   "cell_type": "markdown",
   "id": "cc91b76c",
   "metadata": {},
   "source": [
    "**General Steps**\n",
    "1. Build Trees:\n",
    "    - Imagine you have a bunch of points.\n",
    "    - Randomly pick some points and start splitting them randomly until each group has just one point.\n",
    "\n",
    "2. Anomaly Score:\n",
    "    - For each point, calculate a score based on how quickly it was isolated in the trees.\n",
    "    - If a point is isolated quickly (short tree depth), it might be an anomaly.\n",
    "\n",
    "3. Anomaly Detection:\n",
    "    - Set a rule: if the score is higher than a certain number, flag it as an anomaly."
   ]
  },
  {
   "cell_type": "markdown",
   "id": "4e8736ba",
   "metadata": {},
   "source": [
    "We will proceed just as we did with the subspace method:\n",
    "\n",
    "1. Create the simulated data—**done already**\n",
    "2. Perform anomaly detection with the isolation forest algorithm\n",
    "3. Score the results\n",
    "4. Analyze the output using a confusion matrix"
   ]
  },
  {
   "cell_type": "code",
   "execution_count": 29,
   "id": "4134ef9a",
   "metadata": {},
   "outputs": [],
   "source": [
    "isolation_forest = IsolationForest(n_estimators=100, max_samples=256, \n",
    "                                   contamination=0.01961, max_features=10)"
   ]
  },
  {
   "cell_type": "markdown",
   "id": "2a5700fa",
   "metadata": {},
   "source": [
    "The parameters explained:\n",
    "    \n",
    "1. *n_estimators*: the number of isolation trees in the forest. The default value is 100.\n",
    "\n",
    "2. *max_samples*: this is the maximum number of samples drawn to construct each tree. Sklearn offers several choices for this parameter. Kai, Ting and Zhou find that 256 is \"generally is enough to\n",
    "perform anomaly detection across a wide range of data.\"\n",
    "\n",
    "3. *max_features*: the number of features drawn to construct each tree. Here we use the full dimensionality of our dataset (10). Using a smaller value would introduce feature bagging into the tree.\n",
    "\n",
    "4. *contamination*: the fraction of points that are anomalies. Just as we did for the subspace method, we will use this number when labeling the anomalies. The number given is  (*anom_pts*)/(*anom_pts* + *norm_pts*) = 100/5100."
   ]
  },
  {
   "cell_type": "markdown",
   "id": "9a864d1b",
   "metadata": {},
   "source": [
    "Now that we've created the forest, we can fit our data and score the points. To do this properly, we should construct the tree with a training dataset and then apply this tree to the test data. \n",
    "\n",
    "For now, we're going to take a simplified approach and fit the tree and score the points using the same data. This is a cavalier approach to isolation forest that can lead to biased results, but it makes for a fairer comparison with the subspace method (where there is no train/test  split)."
   ]
  },
  {
   "cell_type": "code",
   "execution_count": 30,
   "id": "f55cfa72",
   "metadata": {},
   "outputs": [],
   "source": [
    "isolation_forest.fit(all_data)\n",
    "anomaly_score = isolation_forest.decision_function(all_data)"
   ]
  },
  {
   "cell_type": "markdown",
   "id": "6b41cd98",
   "metadata": {},
   "source": [
    "Just as with the subspace method, we know that the first 5000 points are normal data and the next 100 are anomalies. Therefore, we expect that the scores at the beginning of *anomaly_scores* should be positive and those at the end negative."
   ]
  },
  {
   "cell_type": "code",
   "execution_count": 31,
   "id": "0d7c29e4",
   "metadata": {},
   "outputs": [
    {
     "name": "stdout",
     "output_type": "stream",
     "text": [
      "[0.10735375 0.12133362 0.1301514  0.14338582 0.04792288 0.09559621\n",
      " 0.05899167 0.05914986 0.08257227 0.11723036 0.03874564 0.08471182\n",
      " 0.10655479 0.06857933 0.08208751 0.09561946 0.15434401 0.08015293\n",
      " 0.08243244 0.06645808]\n"
     ]
    }
   ],
   "source": [
    "print(anomaly_score[0:20])"
   ]
  },
  {
   "cell_type": "code",
   "execution_count": 32,
   "id": "3da3f03d",
   "metadata": {},
   "outputs": [
    {
     "name": "stdout",
     "output_type": "stream",
     "text": [
      "[-0.04914545 -0.04655918 -0.02274752 -0.06293287 -0.07434275 -0.00712662\n",
      "  0.00478768  0.0076357   0.04715734 -0.06804756  0.04316677 -0.01748935\n",
      "  0.03398974  0.01248265 -0.11357263  0.00331218  0.03067255  0.00409005\n",
      "  0.02213045  0.05059864]\n"
     ]
    }
   ],
   "source": [
    "print(anomaly_score[5080:5100])"
   ]
  },
  {
   "cell_type": "markdown",
   "id": "fa02a833",
   "metadata": {},
   "source": [
    "We see some positive scores at the end, but it would a lot to ask for our isolation forest to be perfect. What does *IsolationForest* predict the last 100 points to be?\n",
    "\n",
    "**Note**: *IsolationForest* labels anomalies with -1 and normal points with +1."
   ]
  },
  {
   "cell_type": "code",
   "execution_count": 33,
   "id": "26004e80",
   "metadata": {},
   "outputs": [],
   "source": [
    "pred_forest = isolation_forest.predict(all_data)"
   ]
  },
  {
   "cell_type": "code",
   "execution_count": 34,
   "id": "99192c17",
   "metadata": {},
   "outputs": [
    {
     "name": "stdout",
     "output_type": "stream",
     "text": [
      "[-1 -1  1  1 -1  1 -1 -1  1 -1 -1  1 -1 -1  1 -1 -1  1  1  1 -1 -1 -1 -1\n",
      " -1 -1 -1 -1 -1 -1 -1  1  1 -1 -1 -1  1  1 -1 -1  1  1 -1 -1 -1 -1  1  1\n",
      " -1 -1 -1 -1 -1  1  1 -1 -1 -1  1 -1 -1 -1 -1 -1 -1  1  1 -1 -1 -1  1 -1\n",
      "  1  1  1  1 -1 -1  1 -1 -1 -1 -1 -1 -1 -1  1  1  1 -1  1 -1  1  1 -1  1\n",
      "  1  1  1  1]\n"
     ]
    }
   ],
   "source": [
    "print(pred_forest[5000:5100])"
   ]
  },
  {
   "cell_type": "markdown",
   "id": "fa5a23b1",
   "metadata": {},
   "source": [
    "We are happy to see mainly -1, but we should calculate precise statistics. To make a clear comparison with our subspace method results, we will convert *pred_forest* to the labeling convention we used previously: anomalies are +1 and normal data points are 0."
   ]
  },
  {
   "cell_type": "code",
   "execution_count": 35,
   "id": "6d3d6bd7",
   "metadata": {},
   "outputs": [],
   "source": [
    "label_pred_forest = pred_forest\n",
    "\n",
    "# normal data label switched from 1 to 0\n",
    "label_pred_forest [label_pred_forest > 0] = 0 \n",
    "\n",
    "# anomaly label switched from -1 to 1\n",
    "label_pred_forest [label_pred_forest < 0] = 1 "
   ]
  },
  {
   "cell_type": "code",
   "execution_count": 36,
   "id": "87ce0d73",
   "metadata": {},
   "outputs": [
    {
     "data": {
      "text/plain": [
       "array([[4961,   39],\n",
       "       [  39,   61]])"
      ]
     },
     "execution_count": 36,
     "metadata": {},
     "output_type": "execute_result"
    }
   ],
   "source": [
    "confusion_matrix(label_true, label_pred_forest)"
   ]
  },
  {
   "cell_type": "code",
   "execution_count": 37,
   "id": "f340a9eb",
   "metadata": {},
   "outputs": [
    {
     "data": {
      "text/plain": [
       "0.9847058823529412"
      ]
     },
     "execution_count": 37,
     "metadata": {},
     "output_type": "execute_result"
    }
   ],
   "source": [
    "accuracy_score(label_true, label_pred_forest)"
   ]
  },
  {
   "cell_type": "markdown",
   "id": "76ab05b3",
   "metadata": {},
   "source": [
    "When we look at the confusion matrix, we can see that have fewer true positive results than with the subspace method. Nevertheless, it is a popular method because of its speed (low computation complexity)."
   ]
  },
  {
   "cell_type": "markdown",
   "id": "60556496",
   "metadata": {},
   "source": [
    "### Exercise #1\n",
    "\n",
    "This exercise refers to Section 1 (subspace method with feature bagging). \n",
    "\n",
    "We are going to analyze the data without any feature bagging and check whether the claim we made in lectures is correct: feature bagging improves anomaly detection\n",
    "\n",
    "A. Modify *anomaly_subspace_method* to carry out anomaly detection on the full data without any feature bagging.\n",
    "\n",
    "B. Determine the confusion matrix.\n",
    "\n",
    "C. How do the results compare with the subspace method? \n"
   ]
  },
  {
   "cell_type": "markdown",
   "id": "27c1b2af",
   "metadata": {},
   "source": [
    "### Solution #1"
   ]
  },
  {
   "cell_type": "code",
   "execution_count": 38,
   "id": "2c783ca2",
   "metadata": {},
   "outputs": [],
   "source": [
    "def anomaly_subspace_method(data):\n",
    "    \"\"\"\n",
    "    Carries out anomaly detection without feature bagging.\n",
    "    Uses Local Outlier Factor (LOF) for anomaly detection.\n",
    "    \n",
    "    Args: \n",
    "        data: the full data to be sampled (np.array)\n",
    "    Returns:\n",
    "        final_scores: the anomaly score of each point in the data (list)\n",
    "    \"\"\"\n",
    "    clf = LocalOutlierFactor(n_neighbors=20, metric='manhattan')\n",
    "    y_pred = clf.fit_predict(data)\n",
    "    X_scores = clf.negative_outlier_factor_\n",
    "    return X_scores\n",
    "        "
   ]
  },
  {
   "cell_type": "code",
   "execution_count": 39,
   "id": "a30004a4",
   "metadata": {},
   "outputs": [],
   "source": [
    "scores = anomaly_subspace_method(all_data)"
   ]
  },
  {
   "cell_type": "code",
   "execution_count": 40,
   "id": "61f2637a",
   "metadata": {},
   "outputs": [
    {
     "name": "stdout",
     "output_type": "stream",
     "text": [
      "[-1.01648802 -1.04197778 -0.98902867 -0.98702992 -1.08074356 -1.0348043\n",
      " -1.06477976 -1.31677994 -1.05718284 -1.0017845  -1.17411402 -1.08950352\n",
      " -1.04607515 -1.05210799 -1.16089761 -1.07758857 -0.98742768 -1.036424\n",
      " -1.16424673 -1.1549141 ]\n"
     ]
    }
   ],
   "source": [
    "print(scores[0:20])"
   ]
  },
  {
   "cell_type": "code",
   "execution_count": 41,
   "id": "a067e655",
   "metadata": {},
   "outputs": [
    {
     "name": "stdout",
     "output_type": "stream",
     "text": [
      "[-1.43399158 -1.23677158 -1.24173012 -1.32547251 -1.61520615 -1.42690459\n",
      " -1.25387012 -1.14664569 -1.27975595 -1.38412108 -1.10137793 -1.24401264\n",
      " -1.31062524 -1.26487245 -2.03935402 -1.24983504 -1.26533477 -1.24942861\n",
      " -1.27987869 -1.157217  ]\n"
     ]
    }
   ],
   "source": [
    "print(scores[5080:5100])"
   ]
  },
  {
   "cell_type": "code",
   "execution_count": 42,
   "id": "2c378d9f",
   "metadata": {},
   "outputs": [],
   "source": [
    "ranking_by_index = np.argsort(scores)"
   ]
  },
  {
   "cell_type": "code",
   "execution_count": 43,
   "id": "430891e8",
   "metadata": {},
   "outputs": [],
   "source": [
    "# Create labels based on known data\n",
    "# We know that the first *norm_pts* are normal data (0)\n",
    "# and the next *anom_pts* are anomalies (1)\n",
    "label_true = [0]*norm_pts\n",
    "for i in range(anom_pts):\n",
    "        label_true.append(1)\n"
   ]
  },
  {
   "cell_type": "code",
   "execution_count": 44,
   "id": "63d040e9",
   "metadata": {},
   "outputs": [],
   "source": [
    "label_pred = [0]*len(all_data)\n",
    "for index, item in enumerate(ranking_by_index):\n",
    "    label_pred[item] = 1\n",
    "    if index == anom_pts:\n",
    "        break"
   ]
  },
  {
   "cell_type": "code",
   "execution_count": 45,
   "id": "a29e496b",
   "metadata": {},
   "outputs": [
    {
     "data": {
      "text/plain": [
       "array([[4929,   71],\n",
       "       [  70,   30]])"
      ]
     },
     "execution_count": 45,
     "metadata": {},
     "output_type": "execute_result"
    }
   ],
   "source": [
    "# See Imports section above\n",
    "confusion_matrix(label_true, label_pred)"
   ]
  },
  {
   "cell_type": "code",
   "execution_count": 46,
   "id": "646558ad",
   "metadata": {},
   "outputs": [
    {
     "data": {
      "text/plain": [
       "0.9723529411764706"
      ]
     },
     "execution_count": 46,
     "metadata": {},
     "output_type": "execute_result"
    }
   ],
   "source": [
    "accuracy_score(label_true, label_pred)"
   ]
  },
  {
   "cell_type": "markdown",
   "id": "d8344c8b",
   "metadata": {},
   "source": [
    "### Exercise #2\n",
    "\n",
    "This exercise refers to Section 2 (isolation forests).\n",
    "\n",
    "A. Create a training dataset. It should have the same features as *all_data* except it should different points and be one fifth the size (20 anomalies and 1000 normal points).\n",
    "\n",
    "\n",
    "B. Train the isolation forest on this dataset and then test the trained forest on *all_data*.\n",
    "\n",
    "C. Compare the results for the confusion matrix for the one you got without the test/train split. Discuss any differences.\n"
   ]
  },
  {
   "cell_type": "markdown",
   "id": "001e9610",
   "metadata": {},
   "source": [
    "### Solution #2"
   ]
  },
  {
   "cell_type": "code",
   "execution_count": 47,
   "id": "d0bc1f63",
   "metadata": {},
   "outputs": [],
   "source": [
    "np.random.seed(20) # include a seed for reproducibility\n",
    "\n",
    "# generate the normal data using number of points, \n",
    "# number of relevant features, mean and standard deviation\n",
    "norm_pts = 1000\n",
    "norm_dim = 5\n",
    "norm_mean = 0.0\n",
    "norm_stdev = 0.5\n",
    "norm_data = np.random.normal(norm_mean, norm_stdev, \n",
    "                             (norm_pts, norm_dim))"
   ]
  },
  {
   "cell_type": "code",
   "execution_count": 48,
   "id": "562fbae8",
   "metadata": {},
   "outputs": [
    {
     "data": {
      "text/plain": [
       "(1000, 5)"
      ]
     },
     "execution_count": 48,
     "metadata": {},
     "output_type": "execute_result"
    }
   ],
   "source": [
    "norm_data.shape"
   ]
  },
  {
   "cell_type": "code",
   "execution_count": 49,
   "id": "d8025d6e",
   "metadata": {},
   "outputs": [],
   "source": [
    "# Generate Gaussian distribution for preliminary anomaly data\n",
    "# using number of points, number of relevant features, \n",
    "# mean and standard deviation\n",
    "anom_pts = 20\n",
    "anom_dim = 5\n",
    "anom_mean = 0.0\n",
    "anom_stdev = 0.5\n",
    "anom_data_prelim = np.random.normal(anom_mean, anom_stdev, \n",
    "                             (anom_pts, anom_dim))"
   ]
  },
  {
   "cell_type": "code",
   "execution_count": 50,
   "id": "0cdafa0e",
   "metadata": {},
   "outputs": [],
   "source": [
    "anom_data = transform_to_ring(anom_data_prelim, 2.0, 1.0)"
   ]
  },
  {
   "cell_type": "code",
   "execution_count": 51,
   "id": "c0a86e32",
   "metadata": {},
   "outputs": [
    {
     "data": {
      "text/plain": [
       "(20, 5)"
      ]
     },
     "execution_count": 51,
     "metadata": {},
     "output_type": "execute_result"
    }
   ],
   "source": [
    "anom_data.shape"
   ]
  },
  {
   "cell_type": "code",
   "execution_count": 52,
   "id": "cf257310",
   "metadata": {},
   "outputs": [
    {
     "data": {
      "image/png": "[encoded data removed]",
      "text/plain": [
       "<Figure size 600x400 with 1 Axes>"
      ]
     },
     "metadata": {},
     "output_type": "display_data"
    }
   ],
   "source": [
    "fig = plt.figure(figsize=(6,4))\n",
    "ax1 = fig.add_subplot(111)\n",
    "\n",
    "ax1.scatter(norm_data[:,0], norm_data[:,1], s=30, c='b', marker=\"o\", \n",
    "            label='normal')\n",
    "ax1.scatter(anom_data[:,0], anom_data[:,1], s=30, c='r', marker=\"o\", \n",
    "            label='anomaly')\n",
    "plt.legend(loc='best');\n",
    "plt.xlabel('x', fontsize=12)\n",
    "plt.ylabel('y', fontsize=12)\n",
    "plt.show()"
   ]
  },
  {
   "cell_type": "code",
   "execution_count": 54,
   "id": "38bfa9bd",
   "metadata": {},
   "outputs": [],
   "source": [
    "# Create noise for normal data (1) and anomalies (2)\n",
    "# using number of irrelevant features, \n",
    "# mean and standard deviation\n",
    "noise_dim = 5\n",
    "noise_mean = 0\n",
    "noise_stdev = 4\n",
    "noise_norm = np.random.normal(noise_mean, noise_stdev, \n",
    "                                    (norm_pts, noise_dim))\n",
    "noise_anom = np.random.normal(noise_mean, noise_stdev, \n",
    "                                    (anom_pts, noise_dim ))"
   ]
  },
  {
   "cell_type": "code",
   "execution_count": 55,
   "id": "3cbf2347",
   "metadata": {},
   "outputs": [],
   "source": [
    "# Add noise to normal data and anomalies \n",
    "# to create full data (all features)\n",
    "norm_data_full = np.concatenate((norm_data, noise_norm), axis=1)\n",
    "anom_data_full = np.concatenate((anom_data, noise_anom), axis=1)"
   ]
  },
  {
   "cell_type": "code",
   "execution_count": 56,
   "id": "b0f4255f",
   "metadata": {},
   "outputs": [],
   "source": [
    "# Aggregate normal data and anomalies for later use\n",
    "all_data = np.concatenate((norm_data_full, anom_data_full), axis=0)"
   ]
  },
  {
   "cell_type": "code",
   "execution_count": 57,
   "id": "aec02f3e",
   "metadata": {},
   "outputs": [
    {
     "data": {
      "text/plain": [
       "(1020, 10)"
      ]
     },
     "execution_count": 57,
     "metadata": {},
     "output_type": "execute_result"
    }
   ],
   "source": [
    "all_data.shape"
   ]
  },
  {
   "cell_type": "code",
   "execution_count": 58,
   "id": "8d6782c4",
   "metadata": {},
   "outputs": [],
   "source": [
    "isolation_forest.fit(all_data)\n",
    "anomaly_score = isolation_forest.decision_function(all_data)"
   ]
  },
  {
   "cell_type": "code",
   "execution_count": 59,
   "id": "dbf2aa6a",
   "metadata": {},
   "outputs": [
    {
     "name": "stdout",
     "output_type": "stream",
     "text": [
      "[0.07878532 0.12206844 0.13239383 0.0991974  0.0538866  0.10006574\n",
      " 0.05242684 0.09659362 0.08903912 0.07971673 0.09698068 0.08793205\n",
      " 0.09329608 0.08159206 0.13178681 0.09089744 0.12625051 0.03026522\n",
      " 0.06226066 0.04764531]\n"
     ]
    }
   ],
   "source": [
    "print(anomaly_score[0:20])"
   ]
  },
  {
   "cell_type": "code",
   "execution_count": 60,
   "id": "bf8fa6dd",
   "metadata": {},
   "outputs": [
    {
     "name": "stdout",
     "output_type": "stream",
     "text": [
      "[ 0.00977193  0.04346565 -0.0665133   0.01991088  0.01430105 -0.00265352\n",
      "  0.00278059 -0.06416163 -0.00657028 -0.06179759 -0.02457809 -0.04109329\n",
      "  0.05030816 -0.06863203  0.01297316 -0.0181782  -0.01583672  0.01287127\n",
      " -0.0320187  -0.01527471]\n"
     ]
    }
   ],
   "source": [
    "print(anomaly_score[1000:1020])"
   ]
  },
  {
   "cell_type": "code",
   "execution_count": 61,
   "id": "0b894391",
   "metadata": {},
   "outputs": [],
   "source": [
    "pred_forest = isolation_forest.predict(all_data)"
   ]
  },
  {
   "cell_type": "code",
   "execution_count": 64,
   "id": "1d83581e",
   "metadata": {},
   "outputs": [],
   "source": [
    "# Create labels based on known data\n",
    "# We know that the first *norm_pts* are normal data (0)\n",
    "# and the next *anom_pts* are anomalies (1)\n",
    "label_true = [0]*norm_pts\n",
    "for i in range(anom_pts):\n",
    "        label_true.append(1)\n"
   ]
  },
  {
   "cell_type": "code",
   "execution_count": 65,
   "id": "c2ceb7d0",
   "metadata": {},
   "outputs": [],
   "source": [
    "label_pred_forest = pred_forest\n",
    "\n",
    "# normal data label switched from 1 to 0\n",
    "label_pred_forest [label_pred_forest > 0] = 0 \n",
    "\n",
    "# anomaly label switched from -1 to 1\n",
    "label_pred_forest [label_pred_forest < 0] = 1 "
   ]
  },
  {
   "cell_type": "code",
   "execution_count": 66,
   "id": "31099975",
   "metadata": {},
   "outputs": [
    {
     "data": {
      "text/plain": [
       "array([[1000,    0],\n",
       "       [  20,    0]])"
      ]
     },
     "execution_count": 66,
     "metadata": {},
     "output_type": "execute_result"
    }
   ],
   "source": [
    "confusion_matrix(label_true, label_pred_forest)"
   ]
  },
  {
   "cell_type": "code",
   "execution_count": 67,
   "id": "52f39585",
   "metadata": {},
   "outputs": [
    {
     "data": {
      "text/plain": [
       "0.9803921568627451"
      ]
     },
     "execution_count": 67,
     "metadata": {},
     "output_type": "execute_result"
    }
   ],
   "source": [
    "accuracy_score(label_true, label_pred_forest)"
   ]
  },
  {
   "cell_type": "code",
   "execution_count": null,
   "id": "ac5b45f2",
   "metadata": {},
   "outputs": [],
   "source": []
  }
 ],
 "metadata": {
  "kernelspec": {
   "display_name": "Python 3 (ipykernel)",
   "language": "python",
   "name": "python3"
  },
  "language_info": {
   "codemirror_mode": {
    "name": "ipython",
    "version": 3
   },
   "file_extension": ".py",
   "mimetype": "text/x-python",
   "name": "python",
   "nbconvert_exporter": "python",
   "pygments_lexer": "ipython3",
   "version": "3.11.5"
  }
 },
 "nbformat": 4,
 "nbformat_minor": 5
}
